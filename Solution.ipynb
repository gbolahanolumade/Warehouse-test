{
 "cells": [
  {
   "cell_type": "markdown",
   "metadata": {},
   "source": [
    "# TEST QUESTION\n",
    "\n",
    "The goal is to differentiate between expired and non-expired items using the date column. All items with a date before 2021-01-01 are expired.\n"
   ]
  },
  {
   "cell_type": "code",
   "execution_count": 1,
   "metadata": {},
   "outputs": [],
   "source": [
    "#Importing all  Libraries for all \n",
    "import numpy as np\n",
    "import pandas as pd\n",
    "import os\n",
    "\n",
    "#base file path for the spreadsheet\n",
    "basepath = 'C:/Users/GbolahanOlumade/JOB/dataset.csv'\n",
    "\n"
   ]
  },
  {
   "cell_type": "code",
   "execution_count": 2,
   "metadata": {},
   "outputs": [],
   "source": [
    "#function creation to import data from csv to pandas dataframe (Question 1)\n",
    "def read_data():\n",
    "    \n",
    "    raw_data_path = os.path.join('basepath')\n",
    "    raw= os.path.abspath(basepath)\n",
    "    \n",
    "    # read the data with all default parameters\n",
    "    df = pd.read_csv(raw)\n",
    "    \n",
    "    #converting date datatype from object to datetime format \n",
    "    df['date'] = pd.to_datetime(df['date'])\n",
    "    \n",
    "     #filtering and creating a new column based on date (Question 2)\n",
    "    df['obsolete'] = np.where(df.date < \"2021-01-01\", True,False)\n",
    "\n",
    "    return df "
   ]
  },
  {
   "cell_type": "code",
   "execution_count": 3,
   "metadata": {},
   "outputs": [],
   "source": [
    "#Function to converts the input DataFrame to JSON (Question 3)\n",
    "def convertToJSON(x):\n",
    "    resultJSON = x.to_json(r'Solution.json')\n",
    "    "
   ]
  },
  {
   "cell_type": "code",
   "execution_count": 4,
   "metadata": {},
   "outputs": [],
   "source": [
    "df= read_data()"
   ]
  },
  {
   "cell_type": "code",
   "execution_count": 5,
   "metadata": {},
   "outputs": [],
   "source": [
    "#Downloading final result (Question 4)\n",
    "convertToJSON(df)"
   ]
  },
  {
   "cell_type": "code",
   "execution_count": null,
   "metadata": {},
   "outputs": [],
   "source": []
  }
 ],
 "metadata": {
  "kernelspec": {
   "display_name": "Python 3",
   "language": "python",
   "name": "python3"
  },
  "language_info": {
   "codemirror_mode": {
    "name": "ipython",
    "version": 3
   },
   "file_extension": ".py",
   "mimetype": "text/x-python",
   "name": "python",
   "nbconvert_exporter": "python",
   "pygments_lexer": "ipython3",
   "version": "3.8.5"
  }
 },
 "nbformat": 4,
 "nbformat_minor": 4
}
